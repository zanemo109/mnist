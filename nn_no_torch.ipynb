{
 "cells": [
  {
   "cell_type": "markdown",
   "metadata": {},
   "source": [
    "# Introduction 😃\n",
    "\n",
    "Hi hi! I want to learn as much as possible about building neural networks -- I know that in practice, libraries like pytorch, tensorflow, and keras are used to optimize and abstract away the underlying linear algebra of machine learning, but I think it's valuable to delve below this layer of abstraction and understand vanilla neural network architecture, especially as a beginner, so using this notebook to follow along is really helpful.\n",
    "\n"
   ]
  },
  {
   "cell_type": "code",
   "execution_count": 102,
   "metadata": {},
   "outputs": [
    {
     "data": {
      "text/html": [
       "<div>\n",
       "<style scoped>\n",
       "    .dataframe tbody tr th:only-of-type {\n",
       "        vertical-align: middle;\n",
       "    }\n",
       "\n",
       "    .dataframe tbody tr th {\n",
       "        vertical-align: top;\n",
       "    }\n",
       "\n",
       "    .dataframe thead th {\n",
       "        text-align: right;\n",
       "    }\n",
       "</style>\n",
       "<table border=\"1\" class=\"dataframe\">\n",
       "  <thead>\n",
       "    <tr style=\"text-align: right;\">\n",
       "      <th></th>\n",
       "      <th>label</th>\n",
       "      <th>pixel0</th>\n",
       "      <th>pixel1</th>\n",
       "      <th>pixel2</th>\n",
       "      <th>pixel3</th>\n",
       "      <th>pixel4</th>\n",
       "      <th>pixel5</th>\n",
       "      <th>pixel6</th>\n",
       "      <th>pixel7</th>\n",
       "      <th>pixel8</th>\n",
       "      <th>...</th>\n",
       "      <th>pixel774</th>\n",
       "      <th>pixel775</th>\n",
       "      <th>pixel776</th>\n",
       "      <th>pixel777</th>\n",
       "      <th>pixel778</th>\n",
       "      <th>pixel779</th>\n",
       "      <th>pixel780</th>\n",
       "      <th>pixel781</th>\n",
       "      <th>pixel782</th>\n",
       "      <th>pixel783</th>\n",
       "    </tr>\n",
       "  </thead>\n",
       "  <tbody>\n",
       "    <tr>\n",
       "      <th>0</th>\n",
       "      <td>1</td>\n",
       "      <td>0</td>\n",
       "      <td>0</td>\n",
       "      <td>0</td>\n",
       "      <td>0</td>\n",
       "      <td>0</td>\n",
       "      <td>0</td>\n",
       "      <td>0</td>\n",
       "      <td>0</td>\n",
       "      <td>0</td>\n",
       "      <td>...</td>\n",
       "      <td>0</td>\n",
       "      <td>0</td>\n",
       "      <td>0</td>\n",
       "      <td>0</td>\n",
       "      <td>0</td>\n",
       "      <td>0</td>\n",
       "      <td>0</td>\n",
       "      <td>0</td>\n",
       "      <td>0</td>\n",
       "      <td>0</td>\n",
       "    </tr>\n",
       "    <tr>\n",
       "      <th>1</th>\n",
       "      <td>0</td>\n",
       "      <td>0</td>\n",
       "      <td>0</td>\n",
       "      <td>0</td>\n",
       "      <td>0</td>\n",
       "      <td>0</td>\n",
       "      <td>0</td>\n",
       "      <td>0</td>\n",
       "      <td>0</td>\n",
       "      <td>0</td>\n",
       "      <td>...</td>\n",
       "      <td>0</td>\n",
       "      <td>0</td>\n",
       "      <td>0</td>\n",
       "      <td>0</td>\n",
       "      <td>0</td>\n",
       "      <td>0</td>\n",
       "      <td>0</td>\n",
       "      <td>0</td>\n",
       "      <td>0</td>\n",
       "      <td>0</td>\n",
       "    </tr>\n",
       "    <tr>\n",
       "      <th>2</th>\n",
       "      <td>1</td>\n",
       "      <td>0</td>\n",
       "      <td>0</td>\n",
       "      <td>0</td>\n",
       "      <td>0</td>\n",
       "      <td>0</td>\n",
       "      <td>0</td>\n",
       "      <td>0</td>\n",
       "      <td>0</td>\n",
       "      <td>0</td>\n",
       "      <td>...</td>\n",
       "      <td>0</td>\n",
       "      <td>0</td>\n",
       "      <td>0</td>\n",
       "      <td>0</td>\n",
       "      <td>0</td>\n",
       "      <td>0</td>\n",
       "      <td>0</td>\n",
       "      <td>0</td>\n",
       "      <td>0</td>\n",
       "      <td>0</td>\n",
       "    </tr>\n",
       "    <tr>\n",
       "      <th>3</th>\n",
       "      <td>4</td>\n",
       "      <td>0</td>\n",
       "      <td>0</td>\n",
       "      <td>0</td>\n",
       "      <td>0</td>\n",
       "      <td>0</td>\n",
       "      <td>0</td>\n",
       "      <td>0</td>\n",
       "      <td>0</td>\n",
       "      <td>0</td>\n",
       "      <td>...</td>\n",
       "      <td>0</td>\n",
       "      <td>0</td>\n",
       "      <td>0</td>\n",
       "      <td>0</td>\n",
       "      <td>0</td>\n",
       "      <td>0</td>\n",
       "      <td>0</td>\n",
       "      <td>0</td>\n",
       "      <td>0</td>\n",
       "      <td>0</td>\n",
       "    </tr>\n",
       "    <tr>\n",
       "      <th>4</th>\n",
       "      <td>0</td>\n",
       "      <td>0</td>\n",
       "      <td>0</td>\n",
       "      <td>0</td>\n",
       "      <td>0</td>\n",
       "      <td>0</td>\n",
       "      <td>0</td>\n",
       "      <td>0</td>\n",
       "      <td>0</td>\n",
       "      <td>0</td>\n",
       "      <td>...</td>\n",
       "      <td>0</td>\n",
       "      <td>0</td>\n",
       "      <td>0</td>\n",
       "      <td>0</td>\n",
       "      <td>0</td>\n",
       "      <td>0</td>\n",
       "      <td>0</td>\n",
       "      <td>0</td>\n",
       "      <td>0</td>\n",
       "      <td>0</td>\n",
       "    </tr>\n",
       "  </tbody>\n",
       "</table>\n",
       "<p>5 rows × 785 columns</p>\n",
       "</div>"
      ],
      "text/plain": [
       "   label  pixel0  pixel1  pixel2  pixel3  pixel4  pixel5  pixel6  pixel7  \\\n",
       "0      1       0       0       0       0       0       0       0       0   \n",
       "1      0       0       0       0       0       0       0       0       0   \n",
       "2      1       0       0       0       0       0       0       0       0   \n",
       "3      4       0       0       0       0       0       0       0       0   \n",
       "4      0       0       0       0       0       0       0       0       0   \n",
       "\n",
       "   pixel8  ...  pixel774  pixel775  pixel776  pixel777  pixel778  pixel779  \\\n",
       "0       0  ...         0         0         0         0         0         0   \n",
       "1       0  ...         0         0         0         0         0         0   \n",
       "2       0  ...         0         0         0         0         0         0   \n",
       "3       0  ...         0         0         0         0         0         0   \n",
       "4       0  ...         0         0         0         0         0         0   \n",
       "\n",
       "   pixel780  pixel781  pixel782  pixel783  \n",
       "0         0         0         0         0  \n",
       "1         0         0         0         0  \n",
       "2         0         0         0         0  \n",
       "3         0         0         0         0  \n",
       "4         0         0         0         0  \n",
       "\n",
       "[5 rows x 785 columns]"
      ]
     },
     "execution_count": 102,
     "metadata": {},
     "output_type": "execute_result"
    }
   ],
   "source": [
    "import numpy as np\n",
    "import pandas as pd\n",
    "from matplotlib import pyplot as plt\n",
    "\n",
    "data = pd.read_csv('./data/train.csv')\n",
    "\n",
    "data.head()"
   ]
  },
  {
   "cell_type": "code",
   "execution_count": 103,
   "metadata": {},
   "outputs": [],
   "source": [
    "data = np.array(data)\n",
    "m, n = data.shape\n",
    "np.random.shuffle(data) # shuffle before splitting into dev and training sets\n",
    "\n",
    "data_dev = data[0:1000].T\n",
    "Y_dev = data_dev[0]\n",
    "X_dev = data_dev[1:n]\n",
    "X_dev = X_dev / 255.\n",
    "\n",
    "data_train = data[1000:m].T\n",
    "Y_train = data_train[0]\n",
    "X_train = data_train[1:n]\n",
    "X_train = X_train / 255.\n",
    "_,m_train = X_train.shape"
   ]
  },
  {
   "cell_type": "markdown",
   "metadata": {},
   "source": [
    "# Model Architecture\n",
    "\n",
    "**Forward Propogation**\n",
    "\n",
    "$$Z^{[1]} = W^{[1]} X + b^{[1]}$$\n",
    "$$A^{[1]} = g_{\\text{ReLU}}(Z^{[1]})$$\n",
    "$$Z^{[2]} = W^{[2]} A^{[1]} + b^{[2]}$$\n",
    "$$A^{[2]} = g_{\\text{softmax}}(Z^{[2]})$$\n",
    "\n",
    "**Backward Propogation**\n",
    "\n",
    "$$dZ^{[2]} = A^{[2]} - Y$$\n",
    "$$dW^{[2]} = \\frac{1}{m} dZ^{[2]} A^{[1]T}$$\n",
    "$$dB^{[2]} = \\frac{1}{m} \\Sigma {dZ^{[2]}}$$\n",
    "$$dZ^{[1]} = W^{[2]T} dZ^{[2]} .* g^{[1]\\prime} (z^{[1]})$$\n",
    "$$dW^{[1]} = \\frac{1}{m} dZ^{[1]} A^{[0]T}$$\n",
    "$$dB^{[1]} = \\frac{1}{m} \\Sigma {dZ^{[1]}}$$"
   ]
  },
  {
   "cell_type": "code",
   "execution_count": 104,
   "metadata": {},
   "outputs": [],
   "source": [
    "def init_params():\n",
    "    W1 = np.random.rand(10, 784) - 0.5\n",
    "    b1 = np.random.rand(10, 1) - 0.5\n",
    "    W2 = np.random.rand(10, 10) - 0.5\n",
    "    b2 = np.random.rand(10, 1) - 0.5\n",
    "    return W1, b1, W2, b2\n",
    "\n",
    "def ReLU(X):\n",
    "    return np.maximum(X, 0)\n",
    "\n",
    "def softmax(X):\n",
    "    return np.exp(X) / sum(np.exp(X))\n",
    "\n",
    "def forward_prop(X, W1, b1, W2, b2):\n",
    "    Z1 = W1.dot(X) + b1\n",
    "    A1 = ReLU(Z1)\n",
    "    Z2 = W2.dot(A1) + b2\n",
    "    A2 = softmax(Z2)\n",
    "    return Z1, A1, Z2, A2\n",
    "\n",
    "def ReLU_deriv(X):\n",
    "    return X > 0\n",
    "\n",
    "def one_hot(Y):\n",
    "    one_hot_Y = np.zeros((Y.size, Y.max() + 1))\n",
    "    one_hot_Y[np.arange(Y.size), Y] = 1\n",
    "    one_hot_Y = one_hot_Y.T\n",
    "    return one_hot_Y\n",
    "\n",
    "def backward_prop(Z1, A1, Z2, A2, W1, W2, X, Y):\n",
    "    one_hot_Y = one_hot(Y)\n",
    "    dZ2 = A2 - one_hot_Y\n",
    "    dW2 = 1 / m * dZ2.dot(A1.T)\n",
    "    db2 = 1 / m * np.sum(dZ2)\n",
    "    dZ1 = W2.T.dot(dZ2) * ReLU_deriv(Z1)\n",
    "    dW1 = 1 / m * dZ1.dot(X.T)\n",
    "    db1 = 1 / m * np.sum(dZ1)\n",
    "    return dW1, db1, dW2, db2\n",
    "\n",
    "def update_params(W1, b1, W2, b2, dW1, db1, dW2, db2, alpha):\n",
    "    W1 = W1 - alpha * dW1\n",
    "    b1 = b1 - alpha * db1    \n",
    "    W2 = W2 - alpha * dW2  \n",
    "    b2 = b2 - alpha * db2    \n",
    "    return W1, b1, W2, b2\n"
   ]
  },
  {
   "cell_type": "code",
   "execution_count": 128,
   "metadata": {},
   "outputs": [],
   "source": [
    "def get_predictions(A2):\n",
    "    return np.argmax(A2, 0)\n",
    "\n",
    "def get_accuracy(predictions, Y):\n",
    "    return np.sum(predictions == Y) / Y.size\n",
    "\n",
    "def gradient_descent(X, Y, alpha, iterations):\n",
    "    W1, b1, W2, b2 = init_params()\n",
    "    for i in range(iterations):\n",
    "        Z1, A1, Z2, A2 = forward_prop(X, W1, b1, W2, b2)\n",
    "        dW1, db1, dW2, db2 = backward_prop(Z1, A1, Z2, A2, W1, W2, X, Y)\n",
    "        W1, b1, W2, b2 = update_params(W1, b1, W2, b2, dW1, db1, dW2, db2, alpha)\n",
    "        if i % 10 == 0:\n",
    "            print(\"Iteration: \", i)\n",
    "            predictions = get_predictions(A2)\n",
    "            print(get_accuracy(predictions, Y))\n",
    "    return W1, b1, W2, b2"
   ]
  },
  {
   "cell_type": "code",
   "execution_count": 129,
   "metadata": {},
   "outputs": [
    {
     "name": "stdout",
     "output_type": "stream",
     "text": [
      "Iteration:  0\n",
      "0.06797560975609757\n",
      "Iteration:  10\n",
      "0.3027073170731707\n",
      "Iteration:  20\n",
      "0.4544878048780488\n",
      "Iteration:  30\n",
      "0.5306585365853659\n",
      "Iteration:  40\n",
      "0.6134390243902439\n",
      "Iteration:  50\n",
      "0.6821951219512196\n",
      "Iteration:  60\n",
      "0.7325365853658536\n",
      "Iteration:  70\n",
      "0.7655853658536586\n",
      "Iteration:  80\n",
      "0.7531463414634146\n",
      "Iteration:  90\n",
      "0.769390243902439\n",
      "Iteration:  100\n",
      "0.7942682926829269\n",
      "Iteration:  110\n",
      "0.8021951219512196\n",
      "Iteration:  120\n",
      "0.8117317073170732\n",
      "Iteration:  130\n",
      "0.8188780487804878\n",
      "Iteration:  140\n",
      "0.8249512195121951\n",
      "Iteration:  150\n",
      "0.829780487804878\n",
      "Iteration:  160\n",
      "0.8338536585365853\n",
      "Iteration:  170\n",
      "0.8374146341463414\n",
      "Iteration:  180\n",
      "0.8415365853658536\n",
      "Iteration:  190\n",
      "0.8449268292682927\n",
      "Iteration:  200\n",
      "0.8472439024390244\n",
      "Iteration:  210\n",
      "0.8502682926829268\n",
      "Iteration:  220\n",
      "0.8528292682926829\n",
      "Iteration:  230\n",
      "0.8550487804878049\n",
      "Iteration:  240\n",
      "0.8572682926829268\n",
      "Iteration:  250\n",
      "0.8593658536585366\n",
      "Iteration:  260\n",
      "0.8612682926829268\n",
      "Iteration:  270\n",
      "0.8625853658536585\n",
      "Iteration:  280\n",
      "0.8643658536585366\n",
      "Iteration:  290\n",
      "0.8662439024390244\n",
      "Iteration:  300\n",
      "0.8677317073170732\n",
      "Iteration:  310\n",
      "0.8689756097560976\n",
      "Iteration:  320\n",
      "0.870390243902439\n",
      "Iteration:  330\n",
      "0.8717073170731707\n",
      "Iteration:  340\n",
      "0.8733170731707317\n",
      "Iteration:  350\n",
      "0.8749268292682927\n",
      "Iteration:  360\n",
      "0.8759268292682927\n",
      "Iteration:  370\n",
      "0.8772682926829268\n",
      "Iteration:  380\n",
      "0.8783658536585366\n",
      "Iteration:  390\n",
      "0.8793414634146342\n",
      "Iteration:  400\n",
      "0.8805365853658537\n",
      "Iteration:  410\n",
      "0.8814878048780488\n",
      "Iteration:  420\n",
      "0.8825853658536585\n",
      "Iteration:  430\n",
      "0.8834634146341463\n",
      "Iteration:  440\n",
      "0.8844390243902439\n",
      "Iteration:  450\n",
      "0.8854146341463415\n",
      "Iteration:  460\n",
      "0.8863658536585366\n",
      "Iteration:  470\n",
      "0.887\n",
      "Iteration:  480\n",
      "0.888\n",
      "Iteration:  490\n",
      "0.8890243902439025\n",
      "Iteration:  500\n",
      "0.8900243902439025\n",
      "Iteration:  510\n",
      "0.8904878048780488\n",
      "Iteration:  520\n",
      "0.891\n",
      "Iteration:  530\n",
      "0.8917073170731707\n",
      "Iteration:  540\n",
      "0.892219512195122\n",
      "Iteration:  550\n",
      "0.8926585365853659\n",
      "Iteration:  560\n",
      "0.8931219512195122\n",
      "Iteration:  570\n",
      "0.8939512195121951\n",
      "Iteration:  580\n",
      "0.8944878048780488\n",
      "Iteration:  590\n",
      "0.8949512195121951\n",
      "Iteration:  600\n",
      "0.8954146341463415\n",
      "Iteration:  610\n",
      "0.8961219512195122\n",
      "Iteration:  620\n",
      "0.8965853658536586\n",
      "Iteration:  630\n",
      "0.8970731707317073\n",
      "Iteration:  640\n",
      "0.897609756097561\n",
      "Iteration:  650\n",
      "0.8981219512195122\n",
      "Iteration:  660\n",
      "0.8986585365853659\n",
      "Iteration:  670\n",
      "0.8994390243902439\n",
      "Iteration:  680\n",
      "0.8999756097560976\n",
      "Iteration:  690\n",
      "0.900609756097561\n",
      "Iteration:  700\n",
      "0.9009756097560976\n",
      "Iteration:  710\n",
      "0.9014634146341464\n",
      "Iteration:  720\n",
      "0.9017560975609756\n",
      "Iteration:  730\n",
      "0.9017560975609756\n",
      "Iteration:  740\n",
      "0.9022439024390244\n",
      "Iteration:  750\n",
      "0.9027073170731708\n",
      "Iteration:  760\n",
      "0.9028536585365854\n",
      "Iteration:  770\n",
      "0.9032439024390244\n",
      "Iteration:  780\n",
      "0.9037804878048781\n",
      "Iteration:  790\n",
      "0.9044146341463415\n",
      "Iteration:  800\n",
      "0.9047560975609756\n",
      "Iteration:  810\n",
      "0.9051951219512195\n",
      "Iteration:  820\n",
      "0.9057804878048781\n",
      "Iteration:  830\n",
      "0.9060731707317073\n",
      "Iteration:  840\n",
      "0.9064634146341464\n",
      "Iteration:  850\n",
      "0.906829268292683\n",
      "Iteration:  860\n",
      "0.9070731707317073\n",
      "Iteration:  870\n",
      "0.9073658536585366\n",
      "Iteration:  880\n",
      "0.907390243902439\n",
      "Iteration:  890\n",
      "0.9077560975609756\n",
      "Iteration:  900\n",
      "0.9080975609756098\n",
      "Iteration:  910\n",
      "0.9083170731707317\n",
      "Iteration:  920\n",
      "0.9085853658536586\n",
      "Iteration:  930\n",
      "0.9089512195121952\n",
      "Iteration:  940\n",
      "0.9092926829268293\n",
      "Iteration:  950\n",
      "0.9095121951219513\n",
      "Iteration:  960\n",
      "0.909829268292683\n",
      "Iteration:  970\n",
      "0.9101707317073171\n",
      "Iteration:  980\n",
      "0.9104634146341464\n",
      "Iteration:  990\n",
      "0.9104878048780488\n",
      "Iteration:  1000\n",
      "0.9109512195121952\n",
      "Iteration:  1010\n",
      "0.9111707317073171\n",
      "Iteration:  1020\n",
      "0.9113658536585366\n",
      "Iteration:  1030\n",
      "0.9115853658536586\n",
      "Iteration:  1040\n",
      "0.9119512195121952\n",
      "Iteration:  1050\n",
      "0.9122926829268293\n",
      "Iteration:  1060\n",
      "0.9124390243902439\n",
      "Iteration:  1070\n",
      "0.9127804878048781\n",
      "Iteration:  1080\n",
      "0.9129512195121952\n",
      "Iteration:  1090\n",
      "0.9132682926829269\n",
      "Iteration:  1100\n",
      "0.9135121951219513\n",
      "Iteration:  1110\n",
      "0.9137073170731708\n",
      "Iteration:  1120\n",
      "0.9140975609756098\n",
      "Iteration:  1130\n",
      "0.9143414634146342\n",
      "Iteration:  1140\n",
      "0.9144634146341464\n",
      "Iteration:  1150\n",
      "0.9147804878048781\n",
      "Iteration:  1160\n",
      "0.9151707317073171\n",
      "Iteration:  1170\n",
      "0.9154634146341464\n",
      "Iteration:  1180\n",
      "0.9155853658536586\n",
      "Iteration:  1190\n",
      "0.9159756097560976\n"
     ]
    }
   ],
   "source": [
    "lr = 0.3\n",
    "EPOCHS = 1200\n",
    "W1, b1, W2, b2 = gradient_descent(X_train, Y_train, lr, EPOCHS)"
   ]
  },
  {
   "cell_type": "code",
   "execution_count": 130,
   "metadata": {},
   "outputs": [],
   "source": [
    "def get_prediction(X, W1, b1, W2, b2):\n",
    "    _, _, _, A2 = forward_prop(X, W1, b1, W2, b2)\n",
    "    predictions = get_predictions(A2)\n",
    "    return predictions\n",
    "\n",
    "def test_predictions(idx, W1, b1, W2, b2):\n",
    "    img = X_train[:, idx, None]\n",
    "    prediction = get_prediction(X_train[:, idx, None], W1, b1, W2, b2)\n",
    "    label = Y_train[idx]\n",
    "\n",
    "    print(f'Prediction: {prediction}')\n",
    "    print(f'Actual: {label}')\n",
    "\n",
    "    img = img.reshape((28, 28)) * 255\n",
    "    plt.gray()\n",
    "    plt.imshow(img)\n",
    "    plt.show()"
   ]
  },
  {
   "cell_type": "code",
   "execution_count": 131,
   "metadata": {},
   "outputs": [
    {
     "name": "stdout",
     "output_type": "stream",
     "text": [
      "Prediction: [3]\n",
      "Actual: 3\n"
     ]
    },
    {
     "data": {
      "image/png": "[encoded data removed]",
      "text/plain": [
       "<Figure size 640x480 with 1 Axes>"
      ]
     },
     "metadata": {},
     "output_type": "display_data"
    },
    {
     "name": "stdout",
     "output_type": "stream",
     "text": [
      "Prediction: [1]\n",
      "Actual: 1\n"
     ]
    },
    {
     "data": {
      "image/png": "[encoded data removed]",
      "text/plain": [
       "<Figure size 640x480 with 1 Axes>"
      ]
     },
     "metadata": {},
     "output_type": "display_data"
    },
    {
     "name": "stdout",
     "output_type": "stream",
     "text": [
      "Prediction: [0]\n",
      "Actual: 0\n"
     ]
    },
    {
     "data": {
      "image/png": "[encoded data removed]",
      "text/plain": [
       "<Figure size 640x480 with 1 Axes>"
      ]
     },
     "metadata": {},
     "output_type": "display_data"
    },
    {
     "name": "stdout",
     "output_type": "stream",
     "text": [
      "Prediction: [0]\n",
      "Actual: 0\n"
     ]
    },
    {
     "data": {
      "image/png": "[encoded data removed]",
      "text/plain": [
       "<Figure size 640x480 with 1 Axes>"
      ]
     },
     "metadata": {},
     "output_type": "display_data"
    },
    {
     "name": "stdout",
     "output_type": "stream",
     "text": [
      "Prediction: [0]\n",
      "Actual: 0\n"
     ]
    },
    {
     "data": {
      "image/png": "[encoded data removed]",
      "text/plain": [
       "<Figure size 640x480 with 1 Axes>"
      ]
     },
     "metadata": {},
     "output_type": "display_data"
    },
    {
     "name": "stdout",
     "output_type": "stream",
     "text": [
      "Prediction: [8]\n",
      "Actual: 8\n"
     ]
    },
    {
     "data": {
      "image/png": "[encoded data removed]",
      "text/plain": [
       "<Figure size 640x480 with 1 Axes>"
      ]
     },
     "metadata": {},
     "output_type": "display_data"
    },
    {
     "name": "stdout",
     "output_type": "stream",
     "text": [
      "Prediction: [8]\n",
      "Actual: 8\n"
     ]
    },
    {
     "data": {
      "image/png": "[encoded data removed]",
      "text/plain": [
       "<Figure size 640x480 with 1 Axes>"
      ]
     },
     "metadata": {},
     "output_type": "display_data"
    },
    {
     "name": "stdout",
     "output_type": "stream",
     "text": [
      "Prediction: [7]\n",
      "Actual: 7\n"
     ]
    },
    {
     "data": {
      "image/png": "[encoded data removed]",
      "text/plain": [
       "<Figure size 640x480 with 1 Axes>"
      ]
     },
     "metadata": {},
     "output_type": "display_data"
    },
    {
     "name": "stdout",
     "output_type": "stream",
     "text": [
      "Prediction: [3]\n",
      "Actual: 3\n"
     ]
    },
    {
     "data": {
      "image/png": "[encoded data removed]",
      "text/plain": [
       "<Figure size 640x480 with 1 Axes>"
      ]
     },
     "metadata": {},
     "output_type": "display_data"
    },
    {
     "name": "stdout",
     "output_type": "stream",
     "text": [
      "Prediction: [9]\n",
      "Actual: 9\n"
     ]
    },
    {
     "data": {
      "image/png": "[encoded data removed]",
      "text/plain": [
       "<Figure size 640x480 with 1 Axes>"
      ]
     },
     "metadata": {},
     "output_type": "display_data"
    }
   ],
   "source": [
    "for i in range(10):\n",
    "    test_predictions(i, W1, b1, W2, b2)"
   ]
  },
  {
   "cell_type": "code",
   "execution_count": 132,
   "metadata": {},
   "outputs": [
    {
     "data": {
      "text/plain": [
       "0.917"
      ]
     },
     "execution_count": 132,
     "metadata": {},
     "output_type": "execute_result"
    }
   ],
   "source": [
    "dev_predictions = get_prediction(X_dev, W1, b1, W2, b2)\n",
    "get_accuracy(dev_predictions, Y_dev)"
   ]
  },
  {
   "cell_type": "markdown",
   "metadata": {},
   "source": [
    "# Conclusion\n",
    "\n",
    "Achieved a $91.7$ % validation accuracy (improvement from $84$ in the video, nice!)"
   ]
  }
 ],
 "metadata": {
  "kernelspec": {
   "display_name": "Python 3",
   "language": "python",
   "name": "python3"
  },
  "language_info": {
   "codemirror_mode": {
    "name": "ipython",
    "version": 3
   },
   "file_extension": ".py",
   "mimetype": "text/x-python",
   "name": "python",
   "nbconvert_exporter": "python",
   "pygments_lexer": "ipython3",
   "version": "3.11.6"
  }
 },
 "nbformat": 4,
 "nbformat_minor": 2
}
