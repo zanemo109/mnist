{
 "cells": [
  {
   "cell_type": "markdown",
   "metadata": {},
   "source": [
    "# Introduction 😃\n",
    "\n",
    "Hi hi! I want to learn as much as possible about building neural networks -- I know that in practice, libraries like pytorch, tensorflow, and keras are used to optimize and abstract away the underlying linear algebra of machine learning, but I think it's valuable to delve below this layer of abstraction and understand vanilla neural network architecture, especially as a beginner, so using this notebook to follow along is really helpful.\n",
    "\n"
   ]
  },
  {
   "cell_type": "code",
   "execution_count": 1,
   "metadata": {},
   "outputs": [
    {
     "data": {
      "text/html": [
       "<div>\n",
       "<style scoped>\n",
       "    .dataframe tbody tr th:only-of-type {\n",
       "        vertical-align: middle;\n",
       "    }\n",
       "\n",
       "    .dataframe tbody tr th {\n",
       "        vertical-align: top;\n",
       "    }\n",
       "\n",
       "    .dataframe thead th {\n",
       "        text-align: right;\n",
       "    }\n",
       "</style>\n",
       "<table border=\"1\" class=\"dataframe\">\n",
       "  <thead>\n",
       "    <tr style=\"text-align: right;\">\n",
       "      <th></th>\n",
       "      <th>label</th>\n",
       "      <th>pixel0</th>\n",
       "      <th>pixel1</th>\n",
       "      <th>pixel2</th>\n",
       "      <th>pixel3</th>\n",
       "      <th>pixel4</th>\n",
       "      <th>pixel5</th>\n",
       "      <th>pixel6</th>\n",
       "      <th>pixel7</th>\n",
       "      <th>pixel8</th>\n",
       "      <th>...</th>\n",
       "      <th>pixel774</th>\n",
       "      <th>pixel775</th>\n",
       "      <th>pixel776</th>\n",
       "      <th>pixel777</th>\n",
       "      <th>pixel778</th>\n",
       "      <th>pixel779</th>\n",
       "      <th>pixel780</th>\n",
       "      <th>pixel781</th>\n",
       "      <th>pixel782</th>\n",
       "      <th>pixel783</th>\n",
       "    </tr>\n",
       "  </thead>\n",
       "  <tbody>\n",
       "    <tr>\n",
       "      <th>0</th>\n",
       "      <td>1</td>\n",
       "      <td>0</td>\n",
       "      <td>0</td>\n",
       "      <td>0</td>\n",
       "      <td>0</td>\n",
       "      <td>0</td>\n",
       "      <td>0</td>\n",
       "      <td>0</td>\n",
       "      <td>0</td>\n",
       "      <td>0</td>\n",
       "      <td>...</td>\n",
       "      <td>0</td>\n",
       "      <td>0</td>\n",
       "      <td>0</td>\n",
       "      <td>0</td>\n",
       "      <td>0</td>\n",
       "      <td>0</td>\n",
       "      <td>0</td>\n",
       "      <td>0</td>\n",
       "      <td>0</td>\n",
       "      <td>0</td>\n",
       "    </tr>\n",
       "    <tr>\n",
       "      <th>1</th>\n",
       "      <td>0</td>\n",
       "      <td>0</td>\n",
       "      <td>0</td>\n",
       "      <td>0</td>\n",
       "      <td>0</td>\n",
       "      <td>0</td>\n",
       "      <td>0</td>\n",
       "      <td>0</td>\n",
       "      <td>0</td>\n",
       "      <td>0</td>\n",
       "      <td>...</td>\n",
       "      <td>0</td>\n",
       "      <td>0</td>\n",
       "      <td>0</td>\n",
       "      <td>0</td>\n",
       "      <td>0</td>\n",
       "      <td>0</td>\n",
       "      <td>0</td>\n",
       "      <td>0</td>\n",
       "      <td>0</td>\n",
       "      <td>0</td>\n",
       "    </tr>\n",
       "    <tr>\n",
       "      <th>2</th>\n",
       "      <td>1</td>\n",
       "      <td>0</td>\n",
       "      <td>0</td>\n",
       "      <td>0</td>\n",
       "      <td>0</td>\n",
       "      <td>0</td>\n",
       "      <td>0</td>\n",
       "      <td>0</td>\n",
       "      <td>0</td>\n",
       "      <td>0</td>\n",
       "      <td>...</td>\n",
       "      <td>0</td>\n",
       "      <td>0</td>\n",
       "      <td>0</td>\n",
       "      <td>0</td>\n",
       "      <td>0</td>\n",
       "      <td>0</td>\n",
       "      <td>0</td>\n",
       "      <td>0</td>\n",
       "      <td>0</td>\n",
       "      <td>0</td>\n",
       "    </tr>\n",
       "    <tr>\n",
       "      <th>3</th>\n",
       "      <td>4</td>\n",
       "      <td>0</td>\n",
       "      <td>0</td>\n",
       "      <td>0</td>\n",
       "      <td>0</td>\n",
       "      <td>0</td>\n",
       "      <td>0</td>\n",
       "      <td>0</td>\n",
       "      <td>0</td>\n",
       "      <td>0</td>\n",
       "      <td>...</td>\n",
       "      <td>0</td>\n",
       "      <td>0</td>\n",
       "      <td>0</td>\n",
       "      <td>0</td>\n",
       "      <td>0</td>\n",
       "      <td>0</td>\n",
       "      <td>0</td>\n",
       "      <td>0</td>\n",
       "      <td>0</td>\n",
       "      <td>0</td>\n",
       "    </tr>\n",
       "    <tr>\n",
       "      <th>4</th>\n",
       "      <td>0</td>\n",
       "      <td>0</td>\n",
       "      <td>0</td>\n",
       "      <td>0</td>\n",
       "      <td>0</td>\n",
       "      <td>0</td>\n",
       "      <td>0</td>\n",
       "      <td>0</td>\n",
       "      <td>0</td>\n",
       "      <td>0</td>\n",
       "      <td>...</td>\n",
       "      <td>0</td>\n",
       "      <td>0</td>\n",
       "      <td>0</td>\n",
       "      <td>0</td>\n",
       "      <td>0</td>\n",
       "      <td>0</td>\n",
       "      <td>0</td>\n",
       "      <td>0</td>\n",
       "      <td>0</td>\n",
       "      <td>0</td>\n",
       "    </tr>\n",
       "  </tbody>\n",
       "</table>\n",
       "<p>5 rows × 785 columns</p>\n",
       "</div>"
      ],
      "text/plain": [
       "   label  pixel0  pixel1  pixel2  pixel3  pixel4  pixel5  pixel6  pixel7  \\\n",
       "0      1       0       0       0       0       0       0       0       0   \n",
       "1      0       0       0       0       0       0       0       0       0   \n",
       "2      1       0       0       0       0       0       0       0       0   \n",
       "3      4       0       0       0       0       0       0       0       0   \n",
       "4      0       0       0       0       0       0       0       0       0   \n",
       "\n",
       "   pixel8  ...  pixel774  pixel775  pixel776  pixel777  pixel778  pixel779  \\\n",
       "0       0  ...         0         0         0         0         0         0   \n",
       "1       0  ...         0         0         0         0         0         0   \n",
       "2       0  ...         0         0         0         0         0         0   \n",
       "3       0  ...         0         0         0         0         0         0   \n",
       "4       0  ...         0         0         0         0         0         0   \n",
       "\n",
       "   pixel780  pixel781  pixel782  pixel783  \n",
       "0         0         0         0         0  \n",
       "1         0         0         0         0  \n",
       "2         0         0         0         0  \n",
       "3         0         0         0         0  \n",
       "4         0         0         0         0  \n",
       "\n",
       "[5 rows x 785 columns]"
      ]
     },
     "execution_count": 1,
     "metadata": {},
     "output_type": "execute_result"
    }
   ],
   "source": [
    "import numpy as np\n",
    "import pandas as pd\n",
    "from matplotlib import pyplot as plt\n",
    "\n",
    "data = pd.read_csv('./data/train.csv')\n",
    "\n",
    "data.head()"
   ]
  },
  {
   "cell_type": "code",
   "execution_count": 2,
   "metadata": {},
   "outputs": [],
   "source": [
    "data = np.array(data)\n",
    "m, n = data.shape\n",
    "np.random.shuffle(data) # shuffle before splitting into dev and training sets\n",
    "\n",
    "data_dev = data[0:1000].T\n",
    "Y_dev = data_dev[0]\n",
    "X_dev = data_dev[1:n]\n",
    "X_dev = X_dev / 255.\n",
    "\n",
    "data_train = data[1000:m].T\n",
    "Y_train = data_train[0]\n",
    "X_train = data_train[1:n]\n",
    "X_train = X_train / 255.\n",
    "_,m_train = X_train.shape"
   ]
  },
  {
   "cell_type": "markdown",
   "metadata": {},
   "source": [
    "# Model Architecture\n",
    "\n",
    "**Forward Propogation**\n",
    "\n",
    "$$Z^{[1]} = W^{[1]} X + b^{[1]}$$\n",
    "$$A^{[1]} = g_{\\text{ReLU}}(Z^{[1]})$$\n",
    "$$Z^{[2]} = W^{[2]} A^{[1]} + b^{[2]}$$\n",
    "$$A^{[2]} = g_{\\text{softmax}}(Z^{[2]})$$\n",
    "\n",
    "**Backward Propogation**\n",
    "\n",
    "$$dZ^{[2]} = A^{[2]} - Y$$\n",
    "$$dW^{[2]} = \\frac{1}{m} dZ^{[2]} A^{[1]T}$$\n",
    "$$dB^{[2]} = \\frac{1}{m} \\Sigma {dZ^{[2]}}$$\n",
    "$$dZ^{[1]} = W^{[2]T} dZ^{[2]} .* g^{[1]\\prime} (z^{[1]})$$\n",
    "$$dW^{[1]} = \\frac{1}{m} dZ^{[1]} A^{[0]T}$$\n",
    "$$dB^{[1]} = \\frac{1}{m} \\Sigma {dZ^{[1]}}$$"
   ]
  },
  {
   "cell_type": "code",
   "execution_count": 3,
   "metadata": {},
   "outputs": [],
   "source": [
    "def init_params():\n",
    "    W1 = np.random.rand(10, 784) - 0.5\n",
    "    b1 = np.random.rand(10, 1) - 0.5\n",
    "    W2 = np.random.rand(10, 10) - 0.5\n",
    "    b2 = np.random.rand(10, 1) - 0.5\n",
    "    return W1, b1, W2, b2\n",
    "\n",
    "def ReLU(X):\n",
    "    return np.maximum(X, 0)\n",
    "\n",
    "def softmax(X):\n",
    "    return np.exp(X) / sum(np.exp(X))\n",
    "\n",
    "def forward_prop(X, W1, b1, W2, b2):\n",
    "    Z1 = W1.dot(X) + b1\n",
    "    A1 = ReLU(Z1)\n",
    "    Z2 = W2.dot(A1) + b2\n",
    "    A2 = softmax(Z2)\n",
    "    return Z1, A1, Z2, A2\n",
    "\n",
    "def ReLU_deriv(X):\n",
    "    return X > 0\n",
    "\n",
    "def one_hot(Y):\n",
    "    one_hot_Y = np.zeros((Y.size, Y.max() + 1))\n",
    "    one_hot_Y[np.arange(Y.size), Y] = 1\n",
    "    one_hot_Y = one_hot_Y.T\n",
    "    return one_hot_Y\n",
    "\n",
    "def backward_prop(Z1, A1, Z2, A2, W1, W2, X, Y):\n",
    "    one_hot_Y = one_hot(Y)\n",
    "    dZ2 = A2 - one_hot_Y\n",
    "    dW2 = 1 / m * dZ2.dot(A1.T)\n",
    "    db2 = 1 / m * np.sum(dZ2)\n",
    "    dZ1 = W2.T.dot(dZ2) * ReLU_deriv(Z1)\n",
    "    dW1 = 1 / m * dZ1.dot(X.T)\n",
    "    db1 = 1 / m * np.sum(dZ1)\n",
    "    return dW1, db1, dW2, db2\n",
    "\n",
    "def update_params(W1, b1, W2, b2, dW1, db1, dW2, db2, alpha):\n",
    "    W1 = W1 - alpha * dW1\n",
    "    b1 = b1 - alpha * db1    \n",
    "    W2 = W2 - alpha * dW2  \n",
    "    b2 = b2 - alpha * db2    \n",
    "    return W1, b1, W2, b2\n"
   ]
  },
  {
   "cell_type": "code",
   "execution_count": 4,
   "metadata": {},
   "outputs": [],
   "source": [
    "def get_predictions(A2):\n",
    "    return np.argmax(A2, 0)\n",
    "\n",
    "def get_accuracy(predictions, Y):\n",
    "    return np.sum(predictions == Y) / Y.size\n",
    "\n",
    "def gradient_descent(X, Y, alpha, iterations):\n",
    "    W1, b1, W2, b2 = init_params()\n",
    "    for i in range(iterations):\n",
    "        Z1, A1, Z2, A2 = forward_prop(X, W1, b1, W2, b2)\n",
    "        dW1, db1, dW2, db2 = backward_prop(Z1, A1, Z2, A2, W1, W2, X, Y)\n",
    "        W1, b1, W2, b2 = update_params(W1, b1, W2, b2, dW1, db1, dW2, db2, alpha)\n",
    "        if i % 10 == 0:\n",
    "            print(\"Iteration: \", i)\n",
    "            predictions = get_predictions(A2)\n",
    "            print(get_accuracy(predictions, Y))\n",
    "    return W1, b1, W2, b2"
   ]
  },
  {
   "cell_type": "code",
   "execution_count": 5,
   "metadata": {},
   "outputs": [
    {
     "name": "stdout",
     "output_type": "stream",
     "text": [
      "Iteration:  0\n",
      "0.10348780487804878\n",
      "Iteration:  10\n",
      "0.296\n",
      "Iteration:  20\n",
      "0.47841463414634144\n",
      "Iteration:  30\n",
      "0.5849268292682926\n",
      "Iteration:  40\n",
      "0.6502926829268293\n",
      "Iteration:  50\n",
      "0.6957560975609756\n",
      "Iteration:  60\n",
      "0.6640731707317074\n",
      "Iteration:  70\n",
      "0.7065121951219512\n",
      "Iteration:  80\n",
      "0.7402682926829268\n",
      "Iteration:  90\n",
      "0.7569268292682927\n",
      "Iteration:  100\n",
      "0.7710487804878049\n",
      "Iteration:  110\n",
      "0.7825365853658537\n",
      "Iteration:  120\n",
      "0.793219512195122\n",
      "Iteration:  130\n",
      "0.8011463414634147\n",
      "Iteration:  140\n",
      "0.8088048780487805\n",
      "Iteration:  150\n",
      "0.8145853658536585\n",
      "Iteration:  160\n",
      "0.8199024390243902\n",
      "Iteration:  170\n",
      "0.824780487804878\n",
      "Iteration:  180\n",
      "0.8288048780487804\n",
      "Iteration:  190\n",
      "0.8328780487804878\n",
      "Iteration:  200\n",
      "0.8367073170731707\n",
      "Iteration:  210\n",
      "0.8404146341463414\n",
      "Iteration:  220\n",
      "0.843390243902439\n",
      "Iteration:  230\n",
      "0.8457317073170731\n",
      "Iteration:  240\n",
      "0.8493658536585366\n",
      "Iteration:  250\n",
      "0.8517317073170732\n",
      "Iteration:  260\n",
      "0.854\n",
      "Iteration:  270\n",
      "0.8562926829268293\n",
      "Iteration:  280\n",
      "0.858390243902439\n",
      "Iteration:  290\n",
      "0.8602682926829268\n",
      "Iteration:  300\n",
      "0.8622439024390244\n",
      "Iteration:  310\n",
      "0.8635853658536585\n",
      "Iteration:  320\n",
      "0.8650731707317073\n",
      "Iteration:  330\n",
      "0.8664634146341463\n",
      "Iteration:  340\n",
      "0.8677073170731707\n",
      "Iteration:  350\n",
      "0.8690975609756098\n",
      "Iteration:  360\n",
      "0.8702439024390244\n",
      "Iteration:  370\n",
      "0.8715365853658537\n",
      "Iteration:  380\n",
      "0.8724878048780488\n",
      "Iteration:  390\n",
      "0.8735365853658537\n",
      "Iteration:  400\n",
      "0.874609756097561\n",
      "Iteration:  410\n",
      "0.8758292682926829\n",
      "Iteration:  420\n",
      "0.8769024390243902\n",
      "Iteration:  430\n",
      "0.8782926829268293\n",
      "Iteration:  440\n",
      "0.8795853658536585\n",
      "Iteration:  450\n",
      "0.8800487804878049\n",
      "Iteration:  460\n",
      "0.8810243902439024\n",
      "Iteration:  470\n",
      "0.8815609756097561\n",
      "Iteration:  480\n",
      "0.8822439024390244\n",
      "Iteration:  490\n",
      "0.8831219512195122\n",
      "Iteration:  500\n",
      "0.8840731707317073\n",
      "Iteration:  510\n",
      "0.8851707317073171\n",
      "Iteration:  520\n",
      "0.8861951219512195\n",
      "Iteration:  530\n",
      "0.887\n",
      "Iteration:  540\n",
      "0.8875121951219512\n",
      "Iteration:  550\n",
      "0.8881707317073171\n",
      "Iteration:  560\n",
      "0.8887560975609756\n",
      "Iteration:  570\n",
      "0.8891219512195122\n",
      "Iteration:  580\n",
      "0.8899268292682927\n",
      "Iteration:  590\n",
      "0.8909268292682927\n",
      "Iteration:  600\n",
      "0.8914390243902439\n",
      "Iteration:  610\n",
      "0.8921463414634146\n",
      "Iteration:  620\n",
      "0.8928048780487805\n",
      "Iteration:  630\n",
      "0.893390243902439\n",
      "Iteration:  640\n",
      "0.8944390243902439\n",
      "Iteration:  650\n",
      "0.8950243902439025\n",
      "Iteration:  660\n",
      "0.8953658536585366\n",
      "Iteration:  670\n",
      "0.8959756097560976\n",
      "Iteration:  680\n",
      "0.8968536585365854\n",
      "Iteration:  690\n",
      "0.897829268292683\n",
      "Iteration:  700\n",
      "0.8984146341463415\n",
      "Iteration:  710\n",
      "0.8986829268292683\n",
      "Iteration:  720\n",
      "0.8993170731707317\n",
      "Iteration:  730\n",
      "0.8998780487804878\n",
      "Iteration:  740\n",
      "0.9002926829268293\n",
      "Iteration:  750\n",
      "0.9007073170731708\n",
      "Iteration:  760\n",
      "0.901390243902439\n",
      "Iteration:  770\n",
      "0.9020243902439025\n",
      "Iteration:  780\n",
      "0.9025853658536586\n",
      "Iteration:  790\n",
      "0.9031219512195122\n",
      "Iteration:  800\n",
      "0.9035609756097561\n",
      "Iteration:  810\n",
      "0.9041219512195122\n",
      "Iteration:  820\n",
      "0.9045365853658537\n",
      "Iteration:  830\n",
      "0.9050975609756098\n",
      "Iteration:  840\n",
      "0.9055121951219512\n",
      "Iteration:  850\n",
      "0.9059756097560976\n",
      "Iteration:  860\n",
      "0.9065853658536586\n",
      "Iteration:  870\n",
      "0.9069756097560976\n",
      "Iteration:  880\n",
      "0.9073414634146342\n",
      "Iteration:  890\n",
      "0.9079024390243903\n",
      "Iteration:  900\n",
      "0.9082926829268293\n",
      "Iteration:  910\n",
      "0.9086341463414634\n",
      "Iteration:  920\n",
      "0.9090975609756098\n",
      "Iteration:  930\n",
      "0.9095121951219513\n",
      "Iteration:  940\n",
      "0.9100243902439025\n",
      "Iteration:  950\n",
      "0.9103170731707317\n",
      "Iteration:  960\n",
      "0.9106585365853659\n",
      "Iteration:  970\n",
      "0.9110487804878049\n",
      "Iteration:  980\n",
      "0.9115121951219513\n",
      "Iteration:  990\n",
      "0.9117317073170732\n",
      "Iteration:  1000\n",
      "0.9121463414634147\n",
      "Iteration:  1010\n",
      "0.9124634146341464\n",
      "Iteration:  1020\n",
      "0.9128780487804878\n",
      "Iteration:  1030\n",
      "0.9130487804878049\n",
      "Iteration:  1040\n",
      "0.9135609756097561\n",
      "Iteration:  1050\n",
      "0.9139268292682927\n",
      "Iteration:  1060\n",
      "0.9143414634146342\n",
      "Iteration:  1070\n",
      "0.9145365853658537\n",
      "Iteration:  1080\n",
      "0.9148780487804878\n",
      "Iteration:  1090\n",
      "0.9152439024390244\n",
      "Iteration:  1100\n",
      "0.9154878048780488\n",
      "Iteration:  1110\n",
      "0.916\n",
      "Iteration:  1120\n",
      "0.9161707317073171\n",
      "Iteration:  1130\n",
      "0.9163902439024391\n",
      "Iteration:  1140\n",
      "0.9167317073170732\n",
      "Iteration:  1150\n",
      "0.9169024390243903\n",
      "Iteration:  1160\n",
      "0.9171219512195122\n",
      "Iteration:  1170\n",
      "0.9173170731707317\n",
      "Iteration:  1180\n",
      "0.9174146341463415\n",
      "Iteration:  1190\n",
      "0.9176829268292683\n"
     ]
    }
   ],
   "source": [
    "lr = 0.3\n",
    "EPOCHS = 1200\n",
    "W1, b1, W2, b2 = gradient_descent(X_train, Y_train, lr, EPOCHS)"
   ]
  },
  {
   "cell_type": "code",
   "execution_count": 6,
   "metadata": {},
   "outputs": [],
   "source": [
    "def get_prediction(X, W1, b1, W2, b2):\n",
    "    _, _, _, A2 = forward_prop(X, W1, b1, W2, b2)\n",
    "    predictions = get_predictions(A2)\n",
    "    return predictions\n",
    "\n",
    "def test_predictions(idx, W1, b1, W2, b2):\n",
    "    img = X_train[:, idx, None]\n",
    "    prediction = get_prediction(X_train[:, idx, None], W1, b1, W2, b2)\n",
    "    label = Y_train[idx]\n",
    "\n",
    "    print(f'Prediction: {prediction}')\n",
    "    print(f'Actual: {label}')\n",
    "\n",
    "    img = img.reshape((28, 28)) * 255\n",
    "    plt.gray()\n",
    "    plt.imshow(img)\n",
    "    plt.show()"
   ]
  },
  {
   "cell_type": "code",
   "execution_count": 9,
   "metadata": {},
   "outputs": [
    {
     "name": "stdout",
     "output_type": "stream",
     "text": [
      "Prediction: [5]\n",
      "Actual: 5\n"
     ]
    },
    {
     "data": {
      "image/png": "[encoded data removed]",
      "text/plain": [
       "<Figure size 640x480 with 1 Axes>"
      ]
     },
     "metadata": {},
     "output_type": "display_data"
    },
    {
     "name": "stdout",
     "output_type": "stream",
     "text": [
      "Prediction: [4]\n",
      "Actual: 4\n"
     ]
    },
    {
     "data": {
      "image/png": "[encoded data removed]",
      "text/plain": [
       "<Figure size 640x480 with 1 Axes>"
      ]
     },
     "metadata": {},
     "output_type": "display_data"
    },
    {
     "name": "stdout",
     "output_type": "stream",
     "text": [
      "Prediction: [5]\n",
      "Actual: 5\n"
     ]
    },
    {
     "data": {
      "image/png": "[encoded data removed]",
      "text/plain": [
       "<Figure size 640x480 with 1 Axes>"
      ]
     },
     "metadata": {},
     "output_type": "display_data"
    },
    {
     "name": "stdout",
     "output_type": "stream",
     "text": [
      "Prediction: [9]\n",
      "Actual: 4\n"
     ]
    },
    {
     "data": {
      "image/png": "[encoded data removed]",
      "text/plain": [
       "<Figure size 640x480 with 1 Axes>"
      ]
     },
     "metadata": {},
     "output_type": "display_data"
    },
    {
     "name": "stdout",
     "output_type": "stream",
     "text": [
      "Prediction: [2]\n",
      "Actual: 2\n"
     ]
    },
    {
     "data": {
      "image/png": "[encoded data removed]",
      "text/plain": [
       "<Figure size 640x480 with 1 Axes>"
      ]
     },
     "metadata": {},
     "output_type": "display_data"
    },
    {
     "name": "stdout",
     "output_type": "stream",
     "text": [
      "Prediction: [1]\n",
      "Actual: 1\n"
     ]
    },
    {
     "data": {
      "image/png": "[encoded data removed]",
      "text/plain": [
       "<Figure size 640x480 with 1 Axes>"
      ]
     },
     "metadata": {},
     "output_type": "display_data"
    },
    {
     "name": "stdout",
     "output_type": "stream",
     "text": [
      "Prediction: [5]\n",
      "Actual: 5\n"
     ]
    },
    {
     "data": {
      "image/png": "[encoded data removed]",
      "text/plain": [
       "<Figure size 640x480 with 1 Axes>"
      ]
     },
     "metadata": {},
     "output_type": "display_data"
    },
    {
     "name": "stdout",
     "output_type": "stream",
     "text": [
      "Prediction: [1]\n",
      "Actual: 1\n"
     ]
    },
    {
     "data": {
      "image/png": "[encoded data removed]",
      "text/plain": [
       "<Figure size 640x480 with 1 Axes>"
      ]
     },
     "metadata": {},
     "output_type": "display_data"
    },
    {
     "name": "stdout",
     "output_type": "stream",
     "text": [
      "Prediction: [2]\n",
      "Actual: 2\n"
     ]
    },
    {
     "data": {
      "image/png": "[encoded data removed]",
      "text/plain": [
       "<Figure size 640x480 with 1 Axes>"
      ]
     },
     "metadata": {},
     "output_type": "display_data"
    },
    {
     "name": "stdout",
     "output_type": "stream",
     "text": [
      "Prediction: [4]\n",
      "Actual: 4\n"
     ]
    },
    {
     "data": {
      "image/png": "[encoded data removed]",
      "text/plain": [
       "<Figure size 640x480 with 1 Axes>"
      ]
     },
     "metadata": {},
     "output_type": "display_data"
    }
   ],
   "source": [
    "for i in range(10):\n",
    "    test_predictions(i, W1, b1, W2, b2)"
   ]
  },
  {
   "cell_type": "code",
   "execution_count": 8,
   "metadata": {},
   "outputs": [
    {
     "data": {
      "text/plain": [
       "0.916"
      ]
     },
     "execution_count": 8,
     "metadata": {},
     "output_type": "execute_result"
    }
   ],
   "source": [
    "dev_predictions = get_prediction(X_dev, W1, b1, W2, b2)\n",
    "get_accuracy(dev_predictions, Y_dev)"
   ]
  },
  {
   "cell_type": "markdown",
   "metadata": {},
   "source": [
    "# Conclusion\n",
    "\n",
    "Achieved a $91.7$% validation accuracy (improvement from $84$% in the video, nice!)\n",
    "\n",
    "Concepts I learned from doing this:\n",
    "\n",
    "* good understanding of how weights and biases define a network\n",
    "* how backpropogation allows you to train a network based on labels\n",
    "* train/val splits\n",
    "* model architecture\n",
    "\n",
    "Concepts I still want to learn more about:\n",
    "\n",
    "* data shapes and what they mean\n",
    "* fully understanding the backpropogation calculus\n",
    "* exploring changing the model architecture"
   ]
  },
  {
   "cell_type": "markdown",
   "metadata": {},
   "source": [
    "# References\n",
    "\n",
    "Followed along with the following [YouTube video](https://www.youtube.com/watch?v=w8yWXqWQYmU&t=1676s&pp=ygUSbW5pc3QgZnJvbSBzY3JhdGNo) (amazingly explained) and added/modified code to aid my own understanding."
   ]
  }
 ],
 "metadata": {
  "kernelspec": {
   "display_name": "Python 3",
   "language": "python",
   "name": "python3"
  },
  "language_info": {
   "codemirror_mode": {
    "name": "ipython",
    "version": 3
   },
   "file_extension": ".py",
   "mimetype": "text/x-python",
   "name": "python",
   "nbconvert_exporter": "python",
   "pygments_lexer": "ipython3",
   "version": "3.11.6"
  }
 },
 "nbformat": 4,
 "nbformat_minor": 2
}
